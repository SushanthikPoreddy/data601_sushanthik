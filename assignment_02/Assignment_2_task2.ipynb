{
 "cells": [
  {
   "cell_type": "code",
   "execution_count": 3,
   "id": "7da02423",
   "metadata": {},
   "outputs": [
    {
     "name": "stdout",
     "output_type": "stream",
     "text": [
      "[1, 7, 10, 13, 40, 5]\n"
     ]
    }
   ],
   "source": [
    "def rightRotate(lists, num):\n",
    "    output_list = []\n",
    "    for item in range(len(lists) - num, len(lists)):\n",
    "        output_list.append(lists[item])    \n",
    "    for item in range(0, len(lists) - num): \n",
    "        output_list.append(lists[item])\n",
    "    return output_list\n",
    "rotate_num = 1\n",
    "list_1 = [7, 10, 13, 40, 5, 1]\n",
    "print(rightRotate(list_1, rotate_num))"
   ]
  },
  {
   "cell_type": "code",
   "execution_count": null,
   "id": "95ec7350",
   "metadata": {},
   "outputs": [],
   "source": []
  }
 ],
 "metadata": {
  "kernelspec": {
   "display_name": "Python 3 (ipykernel)",
   "language": "python",
   "name": "python3"
  },
  "language_info": {
   "codemirror_mode": {
    "name": "ipython",
    "version": 3
   },
   "file_extension": ".py",
   "mimetype": "text/x-python",
   "name": "python",
   "nbconvert_exporter": "python",
   "pygments_lexer": "ipython3",
   "version": "3.9.7"
  }
 },
 "nbformat": 4,
 "nbformat_minor": 5
}
