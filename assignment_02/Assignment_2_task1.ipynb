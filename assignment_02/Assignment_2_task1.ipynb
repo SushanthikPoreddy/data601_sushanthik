{
 "cells": [
  {
   "cell_type": "code",
   "execution_count": 2,
   "id": "8c0b0605",
   "metadata": {},
   "outputs": [
    {
     "name": "stdout",
     "output_type": "stream",
     "text": [
      "Enter a word:sushanthik\n",
      "10\n",
      "s,u,s,h,a,n,t,h,i,k,None\n"
     ]
    }
   ],
   "source": [
    "def word(a):\n",
    "    result = 0\n",
    "    for char in a:\n",
    "        result = result+1\n",
    "    print(result)\n",
    "    for char in range(len(a)):\n",
    "        print(a[char],end=\",\")\n",
    "a = input(\"Enter a word:\")\n",
    "print(word(a))"
   ]
  }
 ],
 "metadata": {
  "kernelspec": {
   "display_name": "Python 3 (ipykernel)",
   "language": "python",
   "name": "python3"
  },
  "language_info": {
   "codemirror_mode": {
    "name": "ipython",
    "version": 3
   },
   "file_extension": ".py",
   "mimetype": "text/x-python",
   "name": "python",
   "nbconvert_exporter": "python",
   "pygments_lexer": "ipython3",
   "version": "3.9.7"
  }
 },
 "nbformat": 4,
 "nbformat_minor": 5
}
