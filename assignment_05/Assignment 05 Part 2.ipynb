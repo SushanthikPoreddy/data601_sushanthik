{
 "cells": [
  {
   "cell_type": "markdown",
   "id": "1b56767f",
   "metadata": {},
   "source": [
    "Simulate a fair die and a biased 6-sided die. The biased die has probabilities {0.15, 0.15, 0.15, 0.15, 0.15, 0.25}. Create a visualization that compares outcomes of multiple rolls of a fair die and this biased die. You can use a single visualization or multiple visualizations to demonstrate the difference in outcomes for the dice. The user of your notebook should be able to alter the number of simulations as an argument to a function."
   ]
  },
  {
   "cell_type": "code",
   "execution_count": 12,
   "id": "cf8ee8ce",
   "metadata": {},
   "outputs": [
    {
     "name": "stdout",
     "output_type": "stream",
     "text": [
      "Collecting matplotlib"
     ]
    },
    {
     "name": "stderr",
     "output_type": "stream",
     "text": [
      "WARNING: You are using pip version 21.2.4; however, version 21.3.1 is available.\n",
      "You should consider upgrading via the 'C:\\Users\\Avinash\\AppData\\Local\\Programs\\Python\\Python39\\python.exe -m pip install --upgrade pip' command.\n"
     ]
    },
    {
     "name": "stdout",
     "output_type": "stream",
     "text": [
      "\n",
      "  Downloading matplotlib-3.4.3-cp39-cp39-win_amd64.whl (7.1 MB)\n",
      "Collecting cycler>=0.10\n",
      "  Downloading cycler-0.11.0-py3-none-any.whl (6.4 kB)\n",
      "Collecting kiwisolver>=1.0.1\n",
      "  Downloading kiwisolver-1.3.2-cp39-cp39-win_amd64.whl (52 kB)\n",
      "Requirement already satisfied: pyparsing>=2.2.1 in c:\\users\\avinash\\appdata\\local\\programs\\python\\python39\\lib\\site-packages (from matplotlib) (2.4.7)\n",
      "Collecting pillow>=6.2.0\n",
      "  Downloading Pillow-8.4.0-cp39-cp39-win_amd64.whl (3.2 MB)\n",
      "Requirement already satisfied: python-dateutil>=2.7 in c:\\users\\avinash\\appdata\\local\\programs\\python\\python39\\lib\\site-packages (from matplotlib) (2.8.2)\n",
      "Requirement already satisfied: numpy>=1.16 in c:\\users\\avinash\\appdata\\local\\programs\\python\\python39\\lib\\site-packages (from matplotlib) (1.21.2)\n",
      "Requirement already satisfied: six>=1.5 in c:\\users\\avinash\\appdata\\local\\programs\\python\\python39\\lib\\site-packages (from python-dateutil>=2.7->matplotlib) (1.16.0)\n",
      "Installing collected packages: pillow, kiwisolver, cycler, matplotlib\n",
      "Successfully installed cycler-0.11.0 kiwisolver-1.3.2 matplotlib-3.4.3 pillow-8.4.0\n"
     ]
    }
   ],
   "source": [
    "!pip install matplotlib"
   ]
  },
  {
   "cell_type": "code",
   "execution_count": 32,
   "id": "1b2ae19d",
   "metadata": {},
   "outputs": [],
   "source": [
    "import random\n",
    "import numpy as np\n",
    "import matplotlib.pyplot as plt"
   ]
  },
  {
   "cell_type": "code",
   "execution_count": 37,
   "id": "944a3e89",
   "metadata": {},
   "outputs": [],
   "source": [
    "def simulation(x):\n",
    "    coin=x\n",
    "    count_biased=[]\n",
    "    biased_list=[]\n",
    "    for i in range(coin):\n",
    "        biased_list.append(random.choices(range(1, 7), weights=(0.15, 0.15, 0.15, 0.15, 0.15, 0.25))[0])\n",
    "    for i in range(6):  #storing the total count of each outcome in the above simulation into count_biased\n",
    "        count_biased.append(biased_list.count(i+1))\n",
    "    count_unbiased=[]\n",
    "    unbiased_list=[]\n",
    "    for i in range(coin):  #Simulating  an unbiased dice\n",
    "        unbiased_list.append(random.choices(range(1, 7))[0])\n",
    "    for i in range(6):\n",
    "        count_unbiased.append(unbiased_list.count(i+1))\n",
    "    data=[count_biased,count_unbiased]\n",
    "    X = np.arange(1,7)\n",
    "    _=plt.bar(X - 0.10, data[0], color = 'r', width = 0.25)\n",
    "    _=plt.bar(X + 0.15, data[1], color = 'g', width = 0.25)\n",
    "    _=plt.ylabel('frequency',fontsize=12)\n",
    "    _=plt.xlabel('outcome',fontsize=12)\n",
    "    _=plt.title('Comparision between the outcomes of both Biased and Unbiased dices')\n",
    "    plt.show()\n",
    "    return"
   ]
  },
  {
   "cell_type": "code",
   "execution_count": 38,
   "id": "c7a4f1f6",
   "metadata": {},
   "outputs": [
    {
     "data": {
      "image/png": "[encoded data removed]",
      "text/plain": [
       "<Figure size 432x288 with 1 Axes>"
      ]
     },
     "metadata": {
      "needs_background": "light"
     },
     "output_type": "display_data"
    }
   ],
   "source": [
    "simulation(2500)  #This function takes the input based on the user interest and displays the required barchart based on that input."
   ]
  }
 ],
 "metadata": {
  "kernelspec": {
   "display_name": "Python 3 (ipykernel)",
   "language": "python",
   "name": "python3"
  },
  "language_info": {
   "codemirror_mode": {
    "name": "ipython",
    "version": 3
   },
   "file_extension": ".py",
   "mimetype": "text/x-python",
   "name": "python",
   "nbconvert_exporter": "python",
   "pygments_lexer": "ipython3",
   "version": "3.9.7"
  }
 },
 "nbformat": 4,
 "nbformat_minor": 5
}
