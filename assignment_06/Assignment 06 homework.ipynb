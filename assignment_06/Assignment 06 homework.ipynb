{
 "cells": [
  {
   "cell_type": "code",
   "execution_count": 2,
   "id": "c440f68f",
   "metadata": {},
   "outputs": [
    {
     "name": "stdout",
     "output_type": "stream",
     "text": [
      "Collecting openpyxlNote: you may need to restart the kernel to use updated packages.\n"
     ]
    },
    {
     "name": "stderr",
     "output_type": "stream",
     "text": [
      "WARNING: You are using pip version 21.2.4; however, version 21.3.1 is available.\n",
      "You should consider upgrading via the 'C:\\Users\\Avinash\\AppData\\Local\\Programs\\Python\\Python39\\python.exe -m pip install --upgrade pip' command.\n"
     ]
    },
    {
     "name": "stdout",
     "output_type": "stream",
     "text": [
      "\n",
      "  Downloading openpyxl-3.0.9-py2.py3-none-any.whl (242 kB)\n",
      "Collecting et-xmlfile\n",
      "  Downloading et_xmlfile-1.1.0-py3-none-any.whl (4.7 kB)\n",
      "Installing collected packages: et-xmlfile, openpyxl\n",
      "Successfully installed et-xmlfile-1.1.0 openpyxl-3.0.9\n"
     ]
    }
   ],
   "source": [
    "pip install openpyxl"
   ]
  },
  {
   "cell_type": "code",
   "execution_count": 1,
   "id": "2aee3855",
   "metadata": {},
   "outputs": [
    {
     "name": "stdout",
     "output_type": "stream",
     "text": [
      "['main', 'another']\n"
     ]
    }
   ],
   "source": [
    "from openpyxl import load_workbook\n",
    "wb = load_workbook('week_05_homework_XLSX_openpyxl.xlsx')\n",
    "print(wb.sheetnames)"
   ]
  },
  {
   "cell_type": "code",
   "execution_count": 17,
   "id": "e7bbe83e",
   "metadata": {},
   "outputs": [],
   "source": [
    "# from openpyxl.chart import (\n",
    "#     Reference,\n",
    "#     Series,\n",
    "#     ScatterChart\n",
    "# )\n",
    "from openpyxl.drawing.image import Image\n",
    "import openpyxl as xl;\n",
    "f1 = \"week_05_homework_XLSX_openpyxl.xlsx\"\n",
    "wb = xl.load_workbook(f1)\n",
    "wb1 = wb['main']\n",
    "wb2 = wb['another']\n",
    "f2 = \"assignment_06_homework_XLSX_openpyxl.xlsx\"\n",
    "wb3 = xl.load_workbook(f2)\n",
    "ws2 =  wb3.active\n",
    "i = 1\n",
    "list1=[]\n",
    "wb2.cell(row=1,column=1).value = 'patient id'\n",
    "#Appending list1 with patient ID of main sheet\n",
    "while i <= wb1.max_row:\n",
    "    list1.append(wb1.cell(row=i,column=1).value)\n",
    "    i=i+1\n",
    "list2=[]\n",
    "#Appending list2 with patient ID of another sheet\n",
    "j=1\n",
    "while j <= wb2.max_row:\n",
    "    list2.append(wb2.cell(row=j,column=1).value)\n",
    "    j=j+1\n",
    "i=1\n",
    "r = 0\n",
    "for k in range(1,wb1.max_row + 1):\n",
    "    r = r + 1\n",
    "    c = 1\n",
    "#Adding data of patient info alone for the ID's present only in main\n",
    "    if wb1.cell(row=k,column=1).value  not in list2:\n",
    "        for m in range(1,wb1.max_column + 1):\n",
    "            ws2.cell(row=r,column=c).value=wb1.cell(row=k,column=m).value  \n",
    "            c = c + 1\n",
    "#Adding data of patient info and record sheet if patient ID present in both patient_info and another sheet\n",
    "    elif wb1.cell(row=k,column=1).value in list2:\n",
    "        c = 1\n",
    "        for m in range(1,wb1.max_column + 1):\n",
    "            ws2.cell(row=r,column=c).value=wb1.cell(row=k,column=m).value  \n",
    "            c = c + 1\n",
    "        for l in range(1,wb2.max_row + 1):\n",
    "            if wb1.cell(row=k,column=1).value == wb2.cell(row=l,column=1).value:\n",
    "                for n in range(1,wb2.max_column + 1):\n",
    "                    ws2.cell(row=r,column=c).value=wb2.cell(row=l,column=n).value \n",
    "                    c = c + 1\n",
    "#Adding new rows for the patient info sheet, if the patient ID of record sheet not present in the main sheet\n",
    "for o in range(1,wb2.max_row + 1):\n",
    "    if wb2.cell(row=o,column=1).value  not in list1:\n",
    "        r = r + 1\n",
    "        c = 7\n",
    "        for p in range(1,wb2.max_column + 1):\n",
    "            ws2.cell(row=r,column=c).value=wb2.cell(row=o,column=p).value \n",
    "            c = c + 1  \n",
    "\n",
    "#adding chart to the excel file            \n",
    "# data = Reference(sheet1, min_col=4, min_row=2, max_col=5, max_row=25)\n",
    "# chart = ScatterChart()\n",
    "# chart.add_data(data=data)\n",
    "# ws2.add_chart(chart, \"L8\")\n",
    "img = Image(\"img.png\")\n",
    "ws2.add_image(img, 'M8')\n",
    "wb3.save(f2)"
   ]
  }
 ],
 "metadata": {
  "kernelspec": {
   "display_name": "Python 3 (ipykernel)",
   "language": "python",
   "name": "python3"
  },
  "language_info": {
   "codemirror_mode": {
    "name": "ipython",
    "version": 3
   },
   "file_extension": ".py",
   "mimetype": "text/x-python",
   "name": "python",
   "nbconvert_exporter": "python",
   "pygments_lexer": "ipython3",
   "version": "3.9.7"
  }
 },
 "nbformat": 4,
 "nbformat_minor": 5
}
